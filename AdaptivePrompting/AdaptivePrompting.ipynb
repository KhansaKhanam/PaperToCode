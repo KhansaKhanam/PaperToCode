{
  "nbformat": 4,
  "nbformat_minor": 0,
  "metadata": {
    "colab": {
      "provenance": []
    },
    "kernelspec": {
      "name": "python3",
      "display_name": "Python 3"
    },
    "language_info": {
      "name": "python"
    }
  },
  "cells": [
    {
      "cell_type": "markdown",
      "source": [
        "**Adaptive-Prompt**, a method that selects the most informative examples (called exemplars) to guide a large language model (LLM) like GPT-4 in solving reasoning tasks. The goal is to iteratively build a set of exemplars that maximize the model’s performance on new, unseen questions by adaptively choosing which examples to add based on model uncertainty."
      ],
      "metadata": {
        "id": "aeMsmfFLT2Mv"
      }
    },
    {
      "cell_type": "code",
      "execution_count": 3,
      "metadata": {
        "id": "fy7BS_OfneDh",
        "outputId": "9437a854-f7b7-4b3f-bc7c-615a21015c18",
        "colab": {
          "base_uri": "https://localhost:8080/"
        }
      },
      "outputs": [
        {
          "output_type": "stream",
          "name": "stdout",
          "text": [
            "Requirement already satisfied: tqdm in /usr/local/lib/python3.11/dist-packages (4.67.1)\n",
            "Requirement already satisfied: openai in /usr/local/lib/python3.11/dist-packages (1.93.0)\n",
            "Requirement already satisfied: pandas in /usr/local/lib/python3.11/dist-packages (2.2.2)\n",
            "Requirement already satisfied: dotenv in /usr/local/lib/python3.11/dist-packages (0.9.9)\n",
            "Requirement already satisfied: anyio<5,>=3.5.0 in /usr/local/lib/python3.11/dist-packages (from openai) (4.9.0)\n",
            "Requirement already satisfied: distro<2,>=1.7.0 in /usr/local/lib/python3.11/dist-packages (from openai) (1.9.0)\n",
            "Requirement already satisfied: httpx<1,>=0.23.0 in /usr/local/lib/python3.11/dist-packages (from openai) (0.28.1)\n",
            "Requirement already satisfied: jiter<1,>=0.4.0 in /usr/local/lib/python3.11/dist-packages (from openai) (0.10.0)\n",
            "Requirement already satisfied: pydantic<3,>=1.9.0 in /usr/local/lib/python3.11/dist-packages (from openai) (2.11.7)\n",
            "Requirement already satisfied: sniffio in /usr/local/lib/python3.11/dist-packages (from openai) (1.3.1)\n",
            "Requirement already satisfied: typing-extensions<5,>=4.11 in /usr/local/lib/python3.11/dist-packages (from openai) (4.14.0)\n",
            "Requirement already satisfied: numpy>=1.23.2 in /usr/local/lib/python3.11/dist-packages (from pandas) (2.0.2)\n",
            "Requirement already satisfied: python-dateutil>=2.8.2 in /usr/local/lib/python3.11/dist-packages (from pandas) (2.9.0.post0)\n",
            "Requirement already satisfied: pytz>=2020.1 in /usr/local/lib/python3.11/dist-packages (from pandas) (2025.2)\n",
            "Requirement already satisfied: tzdata>=2022.7 in /usr/local/lib/python3.11/dist-packages (from pandas) (2025.2)\n",
            "Requirement already satisfied: python-dotenv in /usr/local/lib/python3.11/dist-packages (from dotenv) (1.1.1)\n",
            "Requirement already satisfied: idna>=2.8 in /usr/local/lib/python3.11/dist-packages (from anyio<5,>=3.5.0->openai) (3.10)\n",
            "Requirement already satisfied: certifi in /usr/local/lib/python3.11/dist-packages (from httpx<1,>=0.23.0->openai) (2025.6.15)\n",
            "Requirement already satisfied: httpcore==1.* in /usr/local/lib/python3.11/dist-packages (from httpx<1,>=0.23.0->openai) (1.0.9)\n",
            "Requirement already satisfied: h11>=0.16 in /usr/local/lib/python3.11/dist-packages (from httpcore==1.*->httpx<1,>=0.23.0->openai) (0.16.0)\n",
            "Requirement already satisfied: annotated-types>=0.6.0 in /usr/local/lib/python3.11/dist-packages (from pydantic<3,>=1.9.0->openai) (0.7.0)\n",
            "Requirement already satisfied: pydantic-core==2.33.2 in /usr/local/lib/python3.11/dist-packages (from pydantic<3,>=1.9.0->openai) (2.33.2)\n",
            "Requirement already satisfied: typing-inspection>=0.4.0 in /usr/local/lib/python3.11/dist-packages (from pydantic<3,>=1.9.0->openai) (0.4.1)\n",
            "Requirement already satisfied: six>=1.5 in /usr/local/lib/python3.11/dist-packages (from python-dateutil>=2.8.2->pandas) (1.17.0)\n"
          ]
        }
      ],
      "source": [
        "# INSTALLING REQUIRED LIBRARIES\n",
        "!pip install tqdm openai pandas dotenv"
      ]
    },
    {
      "cell_type": "markdown",
      "source": [
        "* **API Key:**\n",
        "\n",
        "* **Datasets:** https://github.com/ad-freiburg/large-qa-datasets?tab=readme-ov-file\n",
        "\n",
        "\n",
        "\n"
      ],
      "metadata": {
        "id": "dLREJCG9YfoO"
      }
    },
    {
      "cell_type": "code",
      "source": [
        "# PREPARING TRAINING DATA\n",
        "\n",
        "import json\n",
        "\n",
        "with open(\"/content/webquestions.examples.train.json\") as f_in:\n",
        "  d_1 = json.load(f_in)\n",
        "\n",
        "with open(\"/content/free917.train.examples.canonicalized.json\") as f1_in:\n",
        "  d_2 = json.load(f1_in)\n",
        "\n",
        "questions = []\n",
        "for i in d_1:\n",
        "  entry = {\n",
        "      \"url\" : i[\"url\"],\n",
        "      \"answers\" : i[\"targetValue\"],\n",
        "      \"question\" : i[\"utterance\"]\n",
        "  }\n",
        "  questions.append(entry)\n",
        "\n",
        "for i in d_2:\n",
        "  entry = {\n",
        "      \"question\" : i[\"utterance\"],\n",
        "      \"answers\" : i[\"targetFormula\"]\n",
        "  }\n",
        "  questions.append(entry)\n",
        "\n",
        "with open(\"/content/questions_train.json\",\"w\") as f_out:\n",
        "  json.dump(questions, f_out)"
      ],
      "metadata": {
        "id": "QBCKl2HAUZRW"
      },
      "execution_count": 15,
      "outputs": []
    },
    {
      "cell_type": "code",
      "source": [
        "import json\n",
        "\n",
        "with open(\"/content/questions_train.json\", \"r\") as f:\n",
        "  questions_train = json.load(f)\n",
        "\n",
        "print(questions_train[:10])"
      ],
      "metadata": {
        "colab": {
          "base_uri": "https://localhost:8080/"
        },
        "id": "UdWOoeMJVMnY",
        "outputId": "4e2274e1-7cf0-412a-b46d-ff8d1af335ff"
      },
      "execution_count": 5,
      "outputs": [
        {
          "output_type": "stream",
          "name": "stdout",
          "text": [
            "['what is the name of justin bieber brother?', 'what character did natalie portman play in star wars?', 'what state does selena gomez?', 'what country is the grand bahama island in?', 'what kind of money to take to bahamas?', 'what character did john noble play in lord of the rings?', 'who does joakim noah play for?', 'where are the nfl redskins from?', 'where did saki live?', 'how old is sacha baron cohen?']\n"
          ]
        }
      ]
    },
    {
      "cell_type": "code",
      "source": [
        "# PREPARING TESTING DATA\n",
        "\n",
        "import json\n",
        "\n",
        "with open(\"/content/webquestions.examples.test.json\") as f:\n",
        "  d_1 = json.load(f)\n",
        "\n",
        "with open(\"/content/free917.test.examples.canonicalized.json\") as f1:\n",
        "  d_2 = json.load(f1)\n",
        "\n",
        "questions = []\n",
        "for i in d_1:\n",
        "  entry = {\n",
        "      \"url\" : i[\"url\"],\n",
        "      \"answers\" : i[\"targetValue\"],\n",
        "      \"question\" : i[\"utterance\"]\n",
        "  }\n",
        "  questions.append(entry)\n",
        "\n",
        "for i in d_2:\n",
        "  entry = {\n",
        "      \"question\" : i[\"utterance\"],\n",
        "      \"answers\" : i[\"targetFormula\"]\n",
        "  }\n",
        "  questions.append(entry)\n",
        "\n",
        "with open(\"/content/questions_test.json\",\"w\") as fOut:\n",
        "  json.dump(questions, fOut)"
      ],
      "metadata": {
        "id": "RAGwsE2qiJ--"
      },
      "execution_count": 16,
      "outputs": []
    },
    {
      "cell_type": "code",
      "source": [
        "import openai\n",
        "import random\n",
        "from tqdm import tqdm\n",
        "import json\n",
        "import pandas as pd"
      ],
      "metadata": {
        "id": "_pDSPHq8j0kS"
      },
      "execution_count": 7,
      "outputs": []
    },
    {
      "cell_type": "code",
      "source": [
        "api_key = \"Edited-out-the-api-key-for-security-purposes\""
      ],
      "metadata": {
        "id": "VyVFwU3wkdJK"
      },
      "execution_count": 8,
      "outputs": []
    },
    {
      "cell_type": "code",
      "source": [
        "# Reference 1: https://www.deeplearning.ai/short-courses/chatgpt-prompt-engineering-for-developers/\n",
        "client = openai.OpenAI(api_key=api_key)\n"
      ],
      "metadata": {
        "id": "VcGxAHdtbMSN"
      },
      "execution_count": 9,
      "outputs": []
    },
    {
      "cell_type": "code",
      "source": [
        "def buildPrompt(exemplers, question):\n",
        "  prompt = \"\"\n",
        "  for ex in exemplers:\n",
        "    prompt += f\"\"\"\n",
        "    Question: {ex[\"question\"]} \\n\n",
        "    Reasoning: {ex[\"reasoning\"]} \\n\n",
        "    Answer: {ex[\"answers\"]} \\n\\n\n",
        "    \"\"\"\n",
        "  prompt += f\"Question: {question['question']} \\nAnswer:\"\n",
        "  return prompt"
      ],
      "metadata": {
        "id": "yNXwQS-eXlAv"
      },
      "execution_count": 10,
      "outputs": []
    },
    {
      "cell_type": "code",
      "source": [
        "def computeUncertainity(exemplers, question, l):\n",
        "  prompt = buildPrompt(exemplers, question)\n",
        "  answers = []\n",
        "  for i in range(l):\n",
        "    response = client.chat.completions.create(\n",
        "        model = \"gpt-4o\",\n",
        "        messages = [{\"role\":\"user\",\n",
        "                     \"content\":prompt}],\n",
        "        temperature = 0.7\n",
        "    )\n",
        "    answers.append(response.choices[0].message.content.strip())\n",
        "  unique_answers = list(set(answers))\n",
        "  return (len(unique_answers) / l)"
      ],
      "metadata": {
        "id": "tpsc5JnGWfwz"
      },
      "execution_count": 11,
      "outputs": []
    },
    {
      "cell_type": "code",
      "source": [
        "def adaptivePrompting(questions, k, l):\n",
        "  exemplers = []\n",
        "  remaining_questions = questions.copy()\n",
        "  for i in range(k):\n",
        "    uncertainity = []\n",
        "    for j in tqdm(remaining_questions, desc = \"evaluating uncertainity....\"):\n",
        "      u = computeUncertainity(exemplers,j,l)\n",
        "      uncertainity.append((j,u))\n",
        "\n",
        "    ques_selected, max_u = max(uncertainity, key=lambda x: x[1])\n",
        "    print(f\"\\nSelected question (highest uncertainty = {max_u:.2f}):\\n{ques_selected['question']}\")\n",
        "    reasoning = input(f\"Please provide step-by-step reasoning for:\\n'{ques_selected['question']}'\\nReasoning: \")\n",
        "    answer = input(f\"Please provide the correct answer for:\\n'{ques_selected['question']}'\\nAnswer: \")\n",
        "    exemplers.append({\n",
        "        \"question\": ques_selected[\"question\"],\n",
        "        \"reasoning\": reasoning,\n",
        "        \"answers\": answer\n",
        "        })\n",
        "    remaining_questions.remove(ques_selected)\n",
        "  return exemplers"
      ],
      "metadata": {
        "id": "9zGMxMIpIk2v"
      },
      "execution_count": 12,
      "outputs": []
    },
    {
      "cell_type": "markdown",
      "source": [
        "Since there's a limit on the number of calls you can make with the free version we couldn't test the model."
      ],
      "metadata": {
        "id": "04dHeKaqudTH"
      }
    },
    {
      "cell_type": "code",
      "metadata": {
        "colab": {
          "base_uri": "https://localhost:8080/",
          "height": 1000
        },
        "collapsed": true,
        "id": "7280b980",
        "outputId": "24b54f92-71b1-4a67-e4e1-4c61459293da"
      },
      "source": [
        "# Running the main code cell again after fixing the data loading.\n",
        "'''\n",
        "The temperature parameter controls the randomness of the model's output.\n",
        "A value of 0 makes the output more deterministic (less random),\n",
        "while higher values makes it more creative and varied.\n",
        "\n",
        "max_tokens: This sets the maximum number of tokens (words or sub-word\n",
        "units) that the model will generate in its response.\n",
        "'''\n",
        "\n",
        "K = 3 # No. of exemplers\n",
        "L = 5 # No. of times we run loop to determine the uncertainity\n",
        "\n",
        "train_data_path = \"/content/questions_train.json\"\n",
        "test_data_path = \"/content/questions_test.json\"\n",
        "\n",
        "if __name__ == \"__main__\":\n",
        "  print(\"\"\"\n",
        "  The Power of Adaptation: \\n\\n\n",
        "  Boosting In-Context Learning through Adaptive Prompting\n",
        "  \"\"\")\n",
        "  with open(train_data_path, \"r\") as f:\n",
        "    train_data = json.load(f)[:50]\n",
        "\n",
        "  with open(test_data_path, \"r\") as f:\n",
        "    test_data = json.load(f)[:50]\n",
        "\n",
        "  exemplers = adaptivePrompting(train_data, K, L)\n",
        "  for ex in exemplers:\n",
        "    print(f\"Question: {ex['question']}\\nReasoning: {ex['reasoning']}\\nAnswer: {ex['answers']}\\n\")\n",
        "  print(\"Verifying model understanding with test set\")\n",
        ""
      ],
      "execution_count": 17,
      "outputs": [
        {
          "output_type": "stream",
          "name": "stdout",
          "text": [
            "\n",
            "  The Power of Adaptation: \n",
            "\n",
            "\n",
            "  Boosting In-Context Learning through Adaptive Prompting\n",
            "  \n"
          ]
        },
        {
          "output_type": "stream",
          "name": "stderr",
          "text": [
            "evaluating uncertainity....: 100%|██████████| 50/50 [06:42<00:00,  8.05s/it]\n"
          ]
        },
        {
          "name": "stdout",
          "output_type": "stream",
          "text": [
            "\n",
            "Selected question (highest uncertainty = 1.00):\n",
            "what state does selena gomez?\n",
            "Please provide step-by-step reasoning for:\n",
            "'what state does selena gomez?'\n",
            "Reasoning: Selena Gomez was born on July 22, 1992, in Grand Prairie, Texas, a suburb in the Dallas–Fort Worth area. She has often spoken about her Texas roots in interviews and social media, and it influences her personality, accent, and values. While she may currently live in places like California (for work in entertainment), her home state — the one she’s originally from — is Texas.\n",
            "Please provide the correct answer for:\n",
            "'what state does selena gomez?'\n",
            "Answer: Texas\n"
          ]
        },
        {
          "output_type": "stream",
          "name": "stderr",
          "text": [
            "evaluating uncertainity....: 100%|██████████| 49/49 [05:50<00:00,  7.15s/it]\n"
          ]
        },
        {
          "name": "stdout",
          "output_type": "stream",
          "text": [
            "\n",
            "Selected question (highest uncertainty = 1.00):\n",
            "what kind of money to take to bahamas?\n",
            "Please provide step-by-step reasoning for:\n",
            "'what kind of money to take to bahamas?'\n",
            "Reasoning: Official Currency: The official currency of The Bahamas is the Bahamian Dollar (BSD). 1:1 Exchange Rate: The Bahamian Dollar is pegged to the U.S. Dollar at a 1:1 rate. This means $1 BSD = $1 USD, always. USD is Widely Accepted: U.S. Dollars are accepted everywhere in The Bahamas — hotels, restaurants, taxis, shops. You can even get change in BSD or USD (sometimes a mix). Best Practice: Bring small denominations of USD ($1s, $5s, $10s). No need to convert to BSD before arriving unless you want to.\n",
            "Please provide the correct answer for:\n",
            "'what kind of money to take to bahamas?'\n",
            "Answer: U.S. Dollars\n"
          ]
        },
        {
          "output_type": "stream",
          "name": "stderr",
          "text": [
            "evaluating uncertainity....: 100%|██████████| 48/48 [04:43<00:00,  5.91s/it]\n"
          ]
        },
        {
          "output_type": "stream",
          "name": "stdout",
          "text": [
            "\n",
            "Selected question (highest uncertainty = 1.00):\n",
            "who does joakim noah play for?\n",
            "Please provide step-by-step reasoning for:\n",
            "'who does joakim noah play for?'\n",
            "Reasoning: Past Career: Joakim Noah had a notable NBA career, primarily with the Chicago Bulls (2007–2016), where he was a two-time All-Star and NBA Defensive Player of the Year (2014). He also played for the New York Knicks, Memphis Grizzlies, and briefly signed with the L.A. Clippers. Retirement: He officially retired in 2021 after not playing since the 2019–2020 NBA season. In October 2021, the Chicago Bulls honored him with a “Joakim Noah Night.” Current Status: He no longer plays professionally. He's involved in philanthropy, especially through his Noah’s Arc Foundation, and occasionally appears at NBA events.\n",
            "Please provide the correct answer for:\n",
            "'who does joakim noah play for?'\n",
            "Answer: Retired\n",
            "Question: what state does selena gomez?\n",
            "Reasoning: Selena Gomez was born on July 22, 1992, in Grand Prairie, Texas, a suburb in the Dallas–Fort Worth area. She has often spoken about her Texas roots in interviews and social media, and it influences her personality, accent, and values. While she may currently live in places like California (for work in entertainment), her home state — the one she’s originally from — is Texas.\n",
            "Answer: Texas\n",
            "\n",
            "Question: what kind of money to take to bahamas?\n",
            "Reasoning: Official Currency: The official currency of The Bahamas is the Bahamian Dollar (BSD). 1:1 Exchange Rate: The Bahamian Dollar is pegged to the U.S. Dollar at a 1:1 rate. This means $1 BSD = $1 USD, always. USD is Widely Accepted: U.S. Dollars are accepted everywhere in The Bahamas — hotels, restaurants, taxis, shops. You can even get change in BSD or USD (sometimes a mix). Best Practice: Bring small denominations of USD ($1s, $5s, $10s). No need to convert to BSD before arriving unless you want to.\n",
            "Answer: U.S. Dollars\n",
            "\n",
            "Question: who does joakim noah play for?\n",
            "Reasoning: Past Career: Joakim Noah had a notable NBA career, primarily with the Chicago Bulls (2007–2016), where he was a two-time All-Star and NBA Defensive Player of the Year (2014). He also played for the New York Knicks, Memphis Grizzlies, and briefly signed with the L.A. Clippers. Retirement: He officially retired in 2021 after not playing since the 2019–2020 NBA season. In October 2021, the Chicago Bulls honored him with a “Joakim Noah Night.” Current Status: He no longer plays professionally. He's involved in philanthropy, especially through his Noah’s Arc Foundation, and occasionally appears at NBA events.\n",
            "Answer: Retired\n",
            "\n",
            "Verifying model understanding with test set\n"
          ]
        },
        {
          "output_type": "error",
          "ename": "AttributeError",
          "evalue": "'OpenAI' object has no attribute 'ChatCompletion'",
          "traceback": [
            "\u001b[0;31m---------------------------------------------------------------------------\u001b[0m",
            "\u001b[0;31mAttributeError\u001b[0m                            Traceback (most recent call last)",
            "\u001b[0;32m/tmp/ipython-input-17-1086476565.py\u001b[0m in \u001b[0;36m<cell line: 0>\u001b[0;34m()\u001b[0m\n\u001b[1;32m     32\u001b[0m   \u001b[0;32mfor\u001b[0m \u001b[0mq\u001b[0m \u001b[0;32min\u001b[0m \u001b[0mtest_data\u001b[0m\u001b[0;34m:\u001b[0m\u001b[0;34m\u001b[0m\u001b[0;34m\u001b[0m\u001b[0m\n\u001b[1;32m     33\u001b[0m     \u001b[0mprompt\u001b[0m \u001b[0;34m=\u001b[0m \u001b[0mbuildPrompt\u001b[0m\u001b[0;34m(\u001b[0m\u001b[0mexemplers\u001b[0m\u001b[0;34m,\u001b[0m \u001b[0mq\u001b[0m\u001b[0;34m)\u001b[0m\u001b[0;34m\u001b[0m\u001b[0;34m\u001b[0m\u001b[0m\n\u001b[0;32m---> 34\u001b[0;31m     response = client.ChatCompletion.create(\n\u001b[0m\u001b[1;32m     35\u001b[0m         \u001b[0mmodel\u001b[0m \u001b[0;34m=\u001b[0m \u001b[0;34m\"gpt-4\"\u001b[0m\u001b[0;34m,\u001b[0m\u001b[0;34m\u001b[0m\u001b[0;34m\u001b[0m\u001b[0m\n\u001b[1;32m     36\u001b[0m         messages = [{\"role\":\"user\",\n",
            "\u001b[0;31mAttributeError\u001b[0m: 'OpenAI' object has no attribute 'ChatCompletion'"
          ]
        }
      ]
    },
    {
      "cell_type": "code",
      "source": [
        "for q in test_data:\n",
        "    prompt = buildPrompt(exemplers, q)\n",
        "    response = client.chat.completions.create(\n",
        "        model = \"gpt-4\",\n",
        "        messages = [{\"role\":\"user\",\n",
        "                     \"content\":prompt}],\n",
        "        temperature = 0\n",
        "    )\n",
        "    print(f\"Question: {q}\\nAnswer: {response.choices[0].message.content.strip()}\\n\")"
      ],
      "metadata": {
        "colab": {
          "base_uri": "https://localhost:8080/"
        },
        "id": "AuopIq15PLSn",
        "outputId": "77a567a8-5f1d-4e79-9c05-233417c6404f"
      },
      "execution_count": 18,
      "outputs": [
        {
          "output_type": "stream",
          "name": "stdout",
          "text": [
            "Question: {'url': 'http://www.freebase.com/view/en/jamaica', 'answers': '(list (description \"Jamaican Creole English Language\") (description \"Jamaican English\"))', 'question': 'what does jamaican people speak?'}\n",
            "Answer: Jamaican Creole English Language and Jamaican English\n",
            "\n",
            "Question: {'url': 'http://www.freebase.com/view/en/james_k_polk', 'answers': '(list (description Lawyer))', 'question': 'what did james k polk do before he was president?'}\n",
            "Answer: Lawyer\n",
            "\n",
            "Question: {'url': 'http://www.freebase.com/view/en/oregon_ducks', 'answers': '(list (description \"University of Oregon\"))', 'question': 'what is the oregon ducks 2012 football schedule?'}\n",
            "Answer: The specific schedule for the Oregon Ducks' 2012 football season may not be readily available as it is a past event. However, such information can typically be found on sports news websites, the official University of Oregon athletics website, or college football databases.\n",
            "\n",
            "Question: {'url': 'http://www.freebase.com/view/en/ken_barlow', 'answers': '(list (description \"Tony Warren\"))', 'question': 'who plays ken barlow in coronation street?'}\n",
            "Answer: Tony Warren\n",
            "\n",
            "Question: {'url': 'http://www.freebase.com/view/en/chiune_sugihara', 'answers': '(list (description Yaotsu))', 'question': 'what happened after mr. sugihara died?'}\n",
            "Answer: The question does not provide enough information for a specific answer. However, after Chiune Sugihara's death, he was honored for his efforts during World War II. He was recognized as \"Righteous Among the Nations\" by the Israeli government for his role in saving thousands of Jews. His hometown of Yaotsu, Japan, also built a memorial museum in his honor.\n",
            "\n",
            "Question: {'url': 'http://www.freebase.com/view/en/wolfgang_amadeus_mozart', 'answers': '(list (description \"wolfgang amadeus mozart used story by pierre beaumarchais\"))', 'question': 'who did mozart write his four horn concertos for?'}\n",
            "Answer: Joseph Leutgeb\n",
            "\n",
            "Question: {'url': 'http://www.freebase.com/view/en/jamarcus_russell', 'answers': '(list (description Mobile))', 'question': 'where is jamarcus russell from?'}\n",
            "Answer: Mobile\n",
            "\n",
            "Question: {'url': 'http://www.freebase.com/view/en/george_washington_carver', 'answers': '(list (description Diamond))', 'question': 'where was george washington carver from?'}\n",
            "Answer: Diamond\n",
            "\n",
            "Question: {'url': 'http://www.freebase.com/view/en/benjamin_franklin', 'answers': '(list (description \"Lightning rod\") (description \"Franklin stove\") (description Bifocals) (description \"Glass harmonica\"))', 'question': 'what else did ben franklin invent?'}\n",
            "Answer: Lightning rod, Franklin stove, Bifocals, Glass harmonica\n",
            "\n",
            "Question: {'url': 'http://www.freebase.com/view/en/richard_nixon', 'answers': '(list (description \"Pat Nixon\"))', 'question': 'who was richard nixon married to?'}\n",
            "Answer: Pat Nixon\n",
            "\n",
            "Question: {'url': 'http://www.freebase.com/view/en/germany', 'answers': '(list (description Belgium))', 'question': 'what country did germany invade first in ww1?'}\n",
            "Answer: Belgium\n",
            "\n",
            "Question: {'url': 'http://www.freebase.com/view/en/saint_lucia', 'answers': '(list (description \"Micoud Quarter\") (description \"Choiseul Quarter\") (description \"Praslin Quarter\") (description \"Vieux Fort Quarter\") (description \"Castries Quarter\") (description \"Laborie Quarter\") (description \"Gros Islet Quarter\") (description \"Anse la Raye Quarter\") (description \"Dauphin Quarter\") (description \"Dennery Quarter\"))', 'question': 'what is the best sandals resort in st lucia?'}\n",
            "Answer: This question does not provide specific information to determine the \"best\" Sandals resort in St. Lucia as it can be subjective and based on personal preference. However, there are three Sandals resorts in St. Lucia: Sandals Regency La Toc, Sandals Grande St. Lucian, and Sandals Halcyon Beach. Each offers different amenities and experiences.\n",
            "\n",
            "Question: {'url': 'http://www.freebase.com/view/en/ohio', 'answers': '(list (description \"John Kasich\"))', 'question': 'who is governor of ohio 2011?'}\n",
            "Answer: John Kasich\n",
            "\n",
            "Question: {'url': 'http://www.freebase.com/view/en/john_f_kennedy', 'answers': '(list (description \"Lyndon B. Johnson\"))', 'question': 'who was vice president after kennedy died?'}\n",
            "Answer: Lyndon B. Johnson\n",
            "\n",
            "Question: {'url': 'http://www.freebase.com/view/en/fukushima_i_nuclear_power_plant', 'answers': '(list (description Japan) (description Okuma))', 'question': 'where is the fukushima daiichi nuclear plant located?'}\n",
            "Answer: Japan, Okuma\n",
            "\n",
            "Question: {'url': 'http://www.freebase.com/view/en/united_states_house_of_representatives', 'answers': '(list (description \"Nancy Pelosi\"))', 'question': 'who is the minority leader of the house of representatives now?'}\n",
            "Answer: Nancy Pelosi\n",
            "\n",
            "Question: {'url': 'http://www.freebase.com/view/en/united_kingdom', 'answers': '(list (description Scotland) (description England) (description Wales) (description \"Northern Ireland\"))', 'question': 'what countries are part of the uk?'}\n",
            "Answer: Scotland, England, Wales, Northern Ireland\n",
            "\n",
            "Question: {'url': 'http://www.freebase.com/view/en/bilbo_baggins', 'answers': '(list (description \"Norman Bird\") (description \"Martin Freeman\") (description \"Ian Holm\"))', 'question': 'who plays bilbo baggins in the hobbit?'}\n",
            "Answer: Martin Freeman\n",
            "\n",
            "Question: {'url': 'http://www.freebase.com/view/en/martin_luther_king_jr', 'answers': '(list (description \"Civil rights movement\") (description \"Civil disobedience\") (description Nonviolence))', 'question': 'what things did martin luther king do?'}\n",
            "Answer: Civil rights movement, Civil disobedience, Nonviolence\n",
            "\n",
            "Question: {'url': 'http://www.freebase.com/view/en/louisiana', 'answers': '(list (description \"Central Time Zone\") (description UTC−06:00))', 'question': 'what is my timezone in louisiana?'}\n",
            "Answer: Central Time Zone or UTC−06:00\n",
            "\n",
            "Question: {'url': 'http://www.freebase.com/view/en/st_augustin', 'answers': '(list (description Physician) (description Writer) (description Philosopher))', 'question': 'what did st augustine do?'}\n",
            "Answer: St. Augustine was a Physician, Writer, and Philosopher.\n",
            "\n",
            "Question: {'url': 'http://www.freebase.com/view/en/keyshia_cole', 'answers': '(list (description \"Leon Cole\"))', 'question': 'who is keyshia cole dad?'}\n",
            "Answer: Leon Cole\n",
            "\n",
            "Question: {'url': 'http://www.freebase.com/view/en/egypt', 'answers': '(list (description \"Semi-presidential system\") (description \"Constitutional republic\") (description Republic) (description \"Unitary state\"))', 'question': 'what kind government does egypt have?'}\n",
            "Answer: Egypt has a Semi-presidential, Constitutional republic system. It is also a Unitary state.\n",
            "\n",
            "Question: {'url': 'http://www.freebase.com/view/en/martin_luther_king_jr', 'answers': '(list (description Memphis))', 'question': 'what town was martin luther king assassinated in?'}\n",
            "Answer: Memphis\n",
            "\n",
            "Question: {'url': 'http://www.freebase.com/view/en/edgar_allan_poe', 'answers': '(list (description Baltimore))', 'question': 'where did edgar allan poe died?'}\n",
            "Answer: Baltimore\n",
            "\n",
            "Question: {'url': 'http://www.freebase.com/view/en/charles_goodyear', 'answers': '(list (description \"During the early 1830\\'s he began inventing, filing six patents between 1830 and 1834, and during this period became interested in rubber, which he tried - unsuccessfully - to use in some of his mechanical inventions.\"))', 'question': 'when did charles goodyear invented rubber?'}\n",
            "Answer: Charles Goodyear did not invent rubber, but he developed the process of vulcanization in 1839, which made rubber more durable and usable in a variety of applications.\n",
            "\n",
            "Question: {'url': 'http://www.freebase.com/view/en/atlanta', 'answers': '(list (description \"Atlanta History Center\") (description \"Atlanta Cyclorama & Civil War Museum\") (description \"Atlanta Ballet\") (description \"Fernbank Museum of Natural History\") (description \"Woodruff Arts Center\") (description \"Zoo Atlanta\") (description \"Atlanta Symphony Orchestra\") (description \"Centennial Olympic Park\") (description \"Martin Luther King, Jr., National Historic Site\") (description \"Fernbank Science Center\"))', 'question': 'what to do today in atlanta with kids?'}\n",
            "Answer: Some options for activities in Atlanta with kids include visiting the Atlanta History Center, Atlanta Cyclorama & Civil War Museum, Atlanta Ballet, Fernbank Museum of Natural History, Woodruff Arts Center, Zoo Atlanta, Atlanta Symphony Orchestra, Centennial Olympic Park, Martin Luther King, Jr., National Historic Site, and Fernbank Science Center.\n",
            "\n",
            "Question: {'url': 'http://www.freebase.com/view/en/france', 'answers': '(list (description Germany))', 'question': 'who did france surrender to in ww2?'}\n",
            "Answer: Germany\n",
            "\n",
            "Question: {'url': 'http://www.freebase.com/view/en/anna_bligh', 'answers': '(list (description \"Electoral district of South Brisbane\"))', 'question': 'what electorate does anna bligh represent?'}\n",
            "Answer: Electoral district of South Brisbane\n",
            "\n",
            "Question: {'url': 'http://www.freebase.com/view/en/united_states', 'answers': '(list (description us))', 'question': 'what channel is the usa pageant on?'}\n",
            "Answer: The channel that the USA pageant is broadcasted on can vary from year to year. It is best to check the official Miss USA website or local listings for the most accurate information.\n",
            "\n",
            "Question: {'url': 'http://www.freebase.com/view/en/islam', 'answers': '(list (description Zakāt) (description Salah) (description Hajj) (description \"Islamic dietary laws\") (description \"Mosque Carpet\") (description Jihad) (description Sawm) (description \"Halal food\") (description Shahada) (description Adab))', 'question': 'what are some of the traditions of islam?'}\n",
            "Answer: Some of the traditions of Islam include Zakāt (charitable giving), Salah (prayer), Hajj (pilgrimage to Mecca), Islamic dietary laws, Mosque Carpet (prayer rug), Jihad (struggle in the way of Allah), Sawm (fasting during Ramadan), Halal food (food permissible according to Islamic law), Shahada (declaration of faith), and Adab (Islamic etiquette).\n",
            "\n",
            "Question: {'url': 'http://www.freebase.com/view/en/andrew_murray', 'answers': '(list (description \"United Kingdom\"))', 'question': 'where did andy murray started playing tennis?'}\n",
            "Answer: United Kingdom\n",
            "\n",
            "Question: {'url': 'http://www.freebase.com/view/en/austraila', 'answers': '(list (description \"Australian dollar\"))', 'question': 'what is the australian dollar called?'}\n",
            "Answer: Australian dollar\n",
            "\n",
            "Question: {'url': 'http://www.freebase.com/view/en/sweden', 'answers': '(list (description \"Central European Time\"))', 'question': 'what timezone is sweden?'}\n",
            "Answer: Central European Time\n",
            "\n",
            "Question: {'url': 'http://www.freebase.com/view/en/cameron_newton', 'answers': '(list (description \"Carolina Panthers\"))', 'question': 'who did cam newton sign with?'}\n",
            "Answer: Carolina Panthers\n",
            "\n",
            "Question: {'url': 'http://www.freebase.com/view/en/frederick', 'answers': '(list (description \"Frederick County\"))', 'question': 'what county is frederick md in?'}\n",
            "Answer: Frederick County\n",
            "\n",
            "Question: {'url': 'http://www.freebase.com/view/en/harper_lee', 'answers': '(list (description \"Monroe County High School\"))', 'question': 'what highschool did harper lee go to?'}\n",
            "Answer: Monroe County High School\n",
            "\n",
            "Question: {'url': 'http://www.freebase.com/view/en/utah', 'answers': '(list (description \"Mountain Time Zone\"))', 'question': 'what timezone is utah in?'}\n",
            "Answer: Mountain Time Zone\n",
            "\n",
            "Question: {'url': 'http://www.freebase.com/view/en/george_w_bush', 'answers': '(list (description \"Al Gore\"))', 'question': 'who did george w. bush run against for the second term?'}\n",
            "Answer: John Kerry\n",
            "\n",
            "Question: {'url': 'http://www.freebase.com/view/en/niall_ferguson', 'answers': '(list (description \"Ayaan Hirsi Ali\"))', 'question': \"who is niall ferguson's wife?\"}\n",
            "Answer: Ayaan Hirsi Ali\n",
            "\n",
            "Question: {'url': 'http://www.freebase.com/view/en/soviet_union', 'answers': '(list (description \"Joseph Stalin\"))', 'question': 'who was the leader of soviet union during wwii?'}\n",
            "Answer: Joseph Stalin\n",
            "\n",
            "Question: {'url': 'http://www.freebase.com/view/en/galapagos_islands', 'answers': '(list (description \"Pacific Ocean\") (description \"Galápagos Province\"))', 'question': 'where is the galapagos islands located on a world map?'}\n",
            "Answer: Pacific Ocean, Galápagos Province\n",
            "\n",
            "Question: {'url': 'http://www.freebase.com/view/en/justin_bieber', 'answers': '(list (description \"Catching Feelings\") (description \"Down to Earth\") (description \"Beauty and a Beat\") (description \"All Around The World (featuring Ludacris)\") (description \"Die in Your Arms\") (description \"As Long As You Love Me (featuring Big Sean)\") (description Baby) (description Believe) (description \"Be Alright\") (description Boyfriend))', 'question': 'what are the songs that justin bieber wrote?'}\n",
            "Answer: \"Catching Feelings\", \"Down to Earth\", \"Beauty and a Beat\", \"All Around The World (featuring Ludacris)\", \"Die in Your Arms\", \"As Long As You Love Me (featuring Big Sean)\", \"Baby\", \"Believe\", \"Be Alright\", \"Boyfriend\".\n",
            "\n",
            "Question: {'url': 'http://www.freebase.com/view/en/georges_clemenceau', 'answers': '(list (description Newspaper) (description Physician) (description Statesman) (description Publisher))', 'question': 'what did george clemenceau do?'}\n",
            "Answer: George Clemenceau was a Newspaper Publisher, Physician, and Statesman.\n",
            "\n",
            "Question: {'url': 'http://www.freebase.com/view/en/arizona', 'answers': '(list (description Saguaro))', 'question': 'what is the state flower of arizona?'}\n",
            "Answer: Saguaro\n",
            "\n",
            "Question: {'url': 'http://www.freebase.com/view/en/riannah', 'answers': '(list (description \"Saint Michael Parish\") (description Barbados))', 'question': 'where was rihanna born and raised?'}\n",
            "Answer: Saint Michael Parish, Barbados\n",
            "\n",
            "Question: {'url': 'http://www.freebase.com/view/en/william_henry_harrison', 'answers': '(list (description 3/4/1841))', 'question': 'what year did president william henry harrison take office?'}\n",
            "Answer: 1841\n",
            "\n",
            "Question: {'url': 'http://www.freebase.com/view/en/george_lopez', 'answers': '(list (description \"Mission Hills\"))', 'question': 'where george lopez was born?'}\n",
            "Answer: Mission Hills\n",
            "\n",
            "Question: {'url': 'http://www.freebase.com/view/en/samsung_group', 'answers': '(list (description Seoul))', 'question': 'where are samsung based?'}\n",
            "Answer: Seoul\n",
            "\n",
            "Question: {'url': 'http://www.freebase.com/view/en/islam', 'answers': '(list (description Zakāt) (description Salah) (description Hajj) (description \"Islamic dietary laws\") (description Jihad) (description Sawm) (description \"Halal food\") (description Shahada) (description Adab))', 'question': 'what did the islamic people believe in?'}\n",
            "Answer: Islamic people, also known as Muslims, believe in the Five Pillars of Islam which are Shahada (faith), Salah (prayer), Zakāt (charity), Sawm (fasting during Ramadan), and Hajj (pilgrimage to Mecca). They also follow Islamic dietary laws, including eating Halal food, and practice Jihad (struggle in the way of Allah) and Adab (Islamic etiquette).\n",
            "\n"
          ]
        }
      ]
    },
    {
      "cell_type": "code",
      "source": [],
      "metadata": {
        "id": "khJT1kTfPMav"
      },
      "execution_count": null,
      "outputs": []
    }
  ]
}